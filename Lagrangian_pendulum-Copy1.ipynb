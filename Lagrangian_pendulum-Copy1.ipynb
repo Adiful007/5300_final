{
 "cells": [
  {
   "cell_type": "markdown",
   "metadata": {},
   "source": [
    "## Simple pendulum using Lagrange's equation\n",
    "\n",
    "Defines a LagrangianPendulum class that is used to generate basic pendulum plots from solving Lagrange's equations.\n",
    "\n",
    "* Last revised 17-Mar-2019 by Dick Furnstahl (furnstahl.1@osu.edu)."
   ]
  },
  {
   "cell_type": "markdown",
   "metadata": {},
   "source": [
    "## Euler-Lagrange equation\n",
    "\n",
    "For a simple pendulum, the Lagrangian with generalized coordinate $\\phi$ is\n",
    "\n",
    "$\\begin{align}\n",
    "  \\mathcal{L} = \\frac12 m L^2 \\dot\\phi^2 - mgL(1 - \\cos\\phi)\n",
    "\\end{align}$\n",
    "\n",
    "The Euler-Lagrange equation is\n",
    "\n",
    "$\\begin{align}\n",
    " \\frac{d}{dt}\\frac{\\partial\\mathcal{L}}{\\partial \\dot\\phi} = \\frac{\\partial\\mathcal L}{\\partial\\phi}\n",
    " \\quad\\Longrightarrow\\quad\n",
    " m L^2 \\ddot \\phi = -mgL\\sin\\phi\n",
    "  \\ \\mbox{or}\\ \\ddot\\phi = - \\omega_0^2\\sin\\phi = 0\n",
    "  \\;.\n",
    "\\end{align}$\n",
    "\n",
    "## Hamilton's equations\n",
    "\n",
    "The generalized momentum corresponding to $\\phi$ is\n",
    "\n",
    "$\\begin{align}\n",
    "   \\frac{\\partial\\mathcal{L}}{\\partial \\dot\\phi} = m L^2 \\dot\\phi \\equiv p_\\phi\n",
    "   \\;.\n",
    "\\end{align}$\n",
    "\n",
    "We can invert this equation to find $\\dot\\phi = p_\\phi / m L^2$.\n",
    "Constructing the Hamiltonian by Legendre transformation we find \n",
    "\n",
    "$\\begin{align}\n",
    "  \\mathcal{H} &= \\dot\\phi p_\\phi  - \\mathcal{L} \\\\\n",
    "              &= \\frac{p_\\phi^2}{m L^2} - \\frac12 m L^2 \\dot\\phi^2 + mgL(1 - \\cos\\phi) \\\\\n",
    "              &= \\frac{p_\\phi^2}{2 m L^2} + mgL(1 - \\cos\\phi)\n",
    "              \\;.\n",
    "\\end{align}$\n",
    "\n",
    "Thus $\\mathcal{H}$ is simply $T + V$.  Hamilton's equations are\n",
    "\n",
    "$\\begin{align}\n",
    "  \\dot\\phi &= \\frac{\\partial\\mathcal{H}}{\\partial p_\\phi} = \\frac{p_\\phi}{m L^2} \\\\\n",
    "  \\dot p_\\phi &= -\\frac{\\partial\\mathcal{H}}{\\partial \\phi} = -mgL \\sin\\phi \n",
    "  \\;.\n",
    "\\end{align}$"
   ]
  },
  {
   "cell_type": "code",
   "execution_count": 1,
   "metadata": {},
   "outputs": [],
   "source": [
    "%matplotlib inline"
   ]
  },
  {
   "cell_type": "code",
   "execution_count": 2,
   "metadata": {},
   "outputs": [],
   "source": [
    "import numpy as np\n",
    "from scipy.integrate import odeint, solve_ivp\n",
    "\n",
    "import matplotlib.pyplot as plt"
   ]
  },
  {
   "cell_type": "code",
   "execution_count": 3,
   "metadata": {},
   "outputs": [],
   "source": [
    "# The dpi (dots-per-inch) setting will affect the resolution and how large\n",
    "#  the plots appear on screen and printed.  So you may want/need to adjust \n",
    "#  the figsize when creating the figure.\n",
    "plt.rcParams['figure.dpi'] = 100.    # this is the default for notebook\n",
    "\n",
    "# Change the common font size (smaller when higher dpi)\n",
    "font_size = 12\n",
    "plt.rcParams.update({'font.size': font_size})"
   ]
  },
  {
   "cell_type": "markdown",
   "metadata": {},
   "source": [
    "## Pendulum class and utility functions"
   ]
  },
  {
   "cell_type": "code",
   "execution_count": 4,
   "metadata": {},
   "outputs": [],
   "source": [
    "class DoublePendulum():\n",
    "    \"\"\"\n",
    "    Pendulum class implements the parameters and Lagrange's equations for \n",
    "     a simple double pendulum (no driving or damping).\n",
    "     \n",
    "    Parameters\n",
    "    ----------\n",
    "    l1 : float\n",
    "        length of the first pendulum\n",
    "    l2: float \n",
    "        length of the second pendulum\n",
    "    g : float\n",
    "        gravitational acceleration at the earth's surface\n",
    "    m1 : float\n",
    "        mass of first pendulum\n",
    "    m2: float\n",
    "        mass of the second pendulum\n",
    "\n",
    "    Methods\n",
    "    -------\n",
    "    dy_dt(t, y)\n",
    "        Returns the right side of the differential equation in vector y, \n",
    "        given time t and the corresponding value of y.\n",
    "    \"\"\"\n",
    "    def __init__(self, l1=1., l2=1., m1=1., m2=1., g=1.\n",
    "                ):\n",
    "        self.l1 = l1\n",
    "        self.l2= l2\n",
    "        self.g = g\n",
    "        self.m1 = m1\n",
    "        self.m2=m2\n",
    "    \n",
    "    def dy_dt(self, t, y):\n",
    "        \"\"\"\n",
    "        This function returns the right-hand side of the diffeq: \n",
    "        [dphi/dt d^2phi/dt^2]\n",
    "        \n",
    "        Parameters\n",
    "        ----------\n",
    "        t : float\n",
    "            time \n",
    "        y : float\n",
    "            A 4-component vector with y[0] = phi1(t)  y[1] = dphi1/dt= phi1_dot = z1\n",
    "                                      y[2] = phi2(t)  y[3] = dphi2/dt= phi2_dot = z2\n",
    "    \n",
    "            \n",
    "        Returns\n",
    "        -------\n",
    "        \n",
    "        \"\"\"\n",
    "        \n",
    "        phi1, z1, phi2, z2 = y\n",
    "        \n",
    "        c,s= np.cos(phi1-phi2), np.sin(phi1-phi2)\n",
    "        \n",
    "        phi1_dot = z1\n",
    "        \n",
    "        z1_dot= (-self.m2 * s * (self.l1* (z1**2) * c + self.l2* (z2**2)) - (self.m1 + self.m2) * self.g * np.sin(phi1)\\\n",
    "                + self.m2 * self.g * np.sin(phi2) * c )/ (self.l1 * (self.m1 + self.m2 * (s**2)))\n",
    "        \n",
    "        phi2_dot = z2\n",
    "        \n",
    "        z2_dot= ((self.m1 + self.m2) * (self.l1* z1**2 * s + self.g * c * np.sin(phi1) - self.g * np.sin(phi2))\\\n",
    "                + self.m2* self.l2 * z2**2 * c * s )/ (self.l2 * (self.m1 + self.m2 * s**2))\n",
    "        \n",
    "        \n",
    "\n",
    "        # I have taken/referred most of this from the code in the hints video as I was having some trouble\n",
    "        # in keeping track of all the phi, phi_dots \n",
    "        \n",
    "        return [phi1_dot, z1_dot, phi2_dot, z2_dot ]\n",
    "    \n",
    "    def solve_ode(self, t_pts, phi1_0, phi1_dot_0, phi2_0, phi2_dot_0,\n",
    "                  abserr=1.0e-9, relerr=1.0e-9):\n",
    "        \"\"\"\n",
    "        Solve the ODE given initial conditions.\n",
    "        Specify smaller abserr and relerr to get more precision.\n",
    "        \"\"\"\n",
    "        y = [phi1_0, phi1_dot_0, phi2_0, phi2_dot_0] \n",
    "        solution = solve_ivp(self.dy_dt, (t_pts[0], t_pts[-1]), \n",
    "                             y, t_eval=t_pts, \n",
    "                             atol=abserr, rtol=relerr)\n",
    "        phi1, phi1_dot, phi2, phi2_dot = solution.y\n",
    "\n",
    "        return phi1, phi1_dot, phi2, phi2_dot"
   ]
  },
  {
   "cell_type": "code",
   "execution_count": 5,
   "metadata": {},
   "outputs": [],
   "source": [
    "def plot_y_vs_x(x, y, axis_labels=None, label=None, title=None, \n",
    "                color=None, linestyle=None, semilogy=False, loglog=False,\n",
    "                ax=None):\n",
    "    \"\"\"\n",
    "    Generic plotting function: return a figure axis with a plot of y vs. x,\n",
    "    with line color and style, title, axis labels, and line label\n",
    "    \"\"\"\n",
    "    if ax is None:        # if the axis object doesn't exist, make one\n",
    "        ax = plt.gca()\n",
    "\n",
    "    if (semilogy):\n",
    "        line, = ax.semilogy(x, y, label=label, \n",
    "                            color=color, linestyle=linestyle)\n",
    "    elif (loglog):\n",
    "        line, = ax.loglog(x, y, label=label, \n",
    "                          color=color, linestyle=linestyle)\n",
    "    else:\n",
    "        line, = ax.plot(x, y, label=label, \n",
    "                    color=color, linestyle=linestyle)\n",
    "\n",
    "    if label is not None:    # if a label if passed, show the legend\n",
    "        ax.legend()\n",
    "    if title is not None:    # set a title if one if passed\n",
    "        ax.set_title(title)\n",
    "    if axis_labels is not None:  # set x-axis and y-axis labels if passed  \n",
    "        ax.set_xlabel(axis_labels[0])\n",
    "        ax.set_ylabel(axis_labels[1])\n",
    "\n",
    "    return ax, line"
   ]
  },
  {
   "cell_type": "code",
   "execution_count": 6,
   "metadata": {},
   "outputs": [],
   "source": [
    "def start_stop_indices(t_pts, plot_start, plot_stop):\n",
    "    start_index = (np.fabs(t_pts-plot_start)).argmin()  # index in t_pts array \n",
    "    stop_index = (np.fabs(t_pts-plot_stop)).argmin()  # index in t_pts array \n",
    "    return start_index, stop_index"
   ]
  },
  {
   "cell_type": "code",
   "execution_count": null,
   "metadata": {},
   "outputs": [],
   "source": []
  },
  {
   "cell_type": "markdown",
   "metadata": {},
   "source": [
    "## Make simple pendulum plots "
   ]
  },
  {
   "cell_type": "code",
   "execution_count": 7,
   "metadata": {
    "scrolled": false
   },
   "outputs": [],
   "source": [
    "# Labels for individual plot axes\n",
    "phi_vs_time_labels = (r'$t$', r'$\\phi(t)$')\n",
    "phi_dot_vs_time_labels = (r'$t$', r'$d\\phi/dt(t)$')\n",
    "\n",
    "#phi2_vs_time_labels = (r'$t$', r'$\\phi2(t)$')\n",
    "#phi2_dot_vs_time_labels = (r'$t$', r'$d\\phi2/dt(t)$')\n",
    "\n",
    "state_space_labels_1 = (r'$\\phi1$', r'$d\\phi1/dt$')\n",
    "state_space_labels_2 = (r'$\\phi2$', r'$d\\phi2/dt$')\n",
    "\n",
    "# Common plotting time (generate the full time then use slices)\n",
    "t_start = 0.\n",
    "t_end = 50.\n",
    "delta_t = 0.001\n",
    "\n",
    "t_pts = np.arange(t_start, t_end+delta_t, delta_t)  \n",
    "\n",
    "l1 = 1.\n",
    "l2=1\n",
    "g = 1.\n",
    "m1 = 1.\n",
    "m2=2\n",
    "\n",
    "# Instantiate a pendulum \n",
    "p1 = DoublePendulum(l1=l1, l2=l2, g=g, m1=m1, m2=m2)\n"
   ]
  },
  {
   "cell_type": "code",
   "execution_count": 8,
   "metadata": {},
   "outputs": [
    {
     "data": {
      "image/png": "[encoded data removed]",
      "text/plain": [
       "<Figure size 1500x500 with 1 Axes>"
      ]
     },
     "metadata": {
      "needs_background": "light"
     },
     "output_type": "display_data"
    }
   ],
   "source": [
    "# both plots: same initial conditions\n",
    "phi1_0 = np.pi/2\n",
    "phi1_dot_0 = 0.\n",
    "phi2_0 = np.pi\n",
    "phi2_dot_0 = 0.\n",
    "phi1, phi1_dot, phi2, phi2_dot = p1.solve_ode(t_pts, phi1_0, phi1_dot_0, phi2_0, phi2_dot_0)\n",
    "\n",
    "\n",
    "# start the plot!\n",
    "fig = plt.figure(figsize=(15,5))\n",
    "overall_title = 'Double pendulum from Lagrangian:  ' + \\\n",
    "                rf'  $\\phi1_0 = {phi1_0:.2f},$' + \\\n",
    "                rf' $\\dot\\phi1_0 = {phi1_dot_0:.2f}$' + \\\n",
    "                '\\n'     # \\n means a new line (adds some space here)\n",
    "fig.suptitle(overall_title, va='baseline')\n",
    "    \n",
    "# first plot: phi1 plot \n",
    "ax_a = fig.add_subplot(1,1,1)                  \n",
    "\n",
    "start, stop = start_stop_indices(t_pts, t_start, t_end)    \n",
    "plot_y_vs_x(t_pts[start : stop], phi1[start : stop], \n",
    "            axis_labels=phi_vs_time_labels, \n",
    "            color='blue',\n",
    "            label=r'$\\phi1(t)$', \n",
    "            title=r'$\\phi1(t)$', \n",
    "            ax=ax_a)\n",
    "plot_y_vs_x(t_pts[start : stop], phi2[start : stop], \n",
    "            axis_labels=phi_vs_time_labels, \n",
    "            color='blue',\n",
    "            label=r'$\\phi2(t)$', \n",
    "            title=r'$\\phi2(t)$', \n",
    "            ax=ax_a)    \n",
    "                              \n",
    "\n",
    "\n",
    "fig.tight_layout()\n",
    "fig.savefig('Double_pendulum_final_phi .png', bbox_inches='tight')  "
   ]
  },
  {
   "cell_type": "code",
   "execution_count": 9,
   "metadata": {},
   "outputs": [
    {
     "ename": "NameError",
     "evalue": "name 'phi1_dot_vs_time_labels' is not defined",
     "output_type": "error",
     "traceback": [
      "\u001b[0;31m---------------------------------------------------------------------------\u001b[0m",
      "\u001b[0;31mNameError\u001b[0m                                 Traceback (most recent call last)",
      "\u001b[0;32m/var/folders/99/p_fk8qls7n183rqkn4zb5j5h0000gn/T/ipykernel_6868/2419021768.py\u001b[0m in \u001b[0;36m<module>\u001b[0;34m\u001b[0m\n\u001b[1;32m      4\u001b[0m \u001b[0mstart\u001b[0m\u001b[0;34m,\u001b[0m \u001b[0mstop\u001b[0m \u001b[0;34m=\u001b[0m \u001b[0mstart_stop_indices\u001b[0m\u001b[0;34m(\u001b[0m\u001b[0mt_pts\u001b[0m\u001b[0;34m,\u001b[0m \u001b[0mt_start\u001b[0m\u001b[0;34m,\u001b[0m \u001b[0mt_end\u001b[0m\u001b[0;34m)\u001b[0m\u001b[0;34m\u001b[0m\u001b[0;34m\u001b[0m\u001b[0m\n\u001b[1;32m      5\u001b[0m plot_y_vs_x(t_pts[start : stop], phi1_dot[start : stop], \n\u001b[0;32m----> 6\u001b[0;31m             \u001b[0maxis_labels\u001b[0m\u001b[0;34m=\u001b[0m\u001b[0mphi1_dot_vs_time_labels\u001b[0m\u001b[0;34m,\u001b[0m\u001b[0;34m\u001b[0m\u001b[0;34m\u001b[0m\u001b[0m\n\u001b[0m\u001b[1;32m      7\u001b[0m             \u001b[0mcolor\u001b[0m\u001b[0;34m=\u001b[0m\u001b[0;34m'blue'\u001b[0m\u001b[0;34m,\u001b[0m\u001b[0;34m\u001b[0m\u001b[0;34m\u001b[0m\u001b[0m\n\u001b[1;32m      8\u001b[0m             \u001b[0mlabel\u001b[0m\u001b[0;34m=\u001b[0m\u001b[0;32mNone\u001b[0m\u001b[0;34m,\u001b[0m\u001b[0;34m\u001b[0m\u001b[0;34m\u001b[0m\u001b[0m\n",
      "\u001b[0;31mNameError\u001b[0m: name 'phi1_dot_vs_time_labels' is not defined"
     ]
    }
   ],
   "source": [
    "# second plot: phi_dot plot \n",
    "ax_b = fig.add_subplot(1,3,2)                  \n",
    "\n",
    "start, stop = start_stop_indices(t_pts, t_start, t_end)    \n",
    "plot_y_vs_x(t_pts[start : stop], phi1_dot[start : stop], \n",
    "            axis_labels=phi1_dot_vs_time_labels, \n",
    "            color='blue',\n",
    "            label=None, \n",
    "            title=r'$\\dot\\phi1(t)$', \n",
    "            ax=ax_b)    \n",
    "\n",
    "# third plot: state space plot from t=30 to t=50   \n",
    "ax_c = fig.add_subplot(1,3,3)                  \n",
    "\n",
    "start, stop = start_stop_indices(t_pts, t_start, t_end)    \n",
    "plot_y_vs_x(phi1[start : stop], phi1_dot[start : stop], \n",
    "            axis_labels=state_space_labels_1, \n",
    "            color='blue',\n",
    "            label=None, \n",
    "            title='State space 1', \n",
    "            ax=ax_c)    \n",
    "\n",
    "# first plot: phi2 plot \n",
    "ax1_a = fig.add_subplot(2,3,1)                  \n",
    "\n",
    "start, stop = start_stop_indices(t_pts, t_start, t_end)    \n",
    "plot_y_vs_x(t_pts[start : stop], phi2[start : stop], \n",
    "            axis_labels=phi2_vs_time_labels, \n",
    "            color='blue',\n",
    "            label=None, \n",
    "            title=r'$\\phi2(t)$', \n",
    "            ax=ax1_a)    \n",
    "                              \n",
    "# second plot: phi_dot plot \n",
    "ax1_b = fig.add_subplot(2,3,2)                  \n",
    "\n",
    "start, stop = start_stop_indices(t_pts, t_start, t_end)    \n",
    "plot_y_vs_x(t_pts[start : stop], phi2_dot[start : stop], \n",
    "            axis_labels=phi2_dot_vs_time_labels, \n",
    "            color='blue',\n",
    "            label=None, \n",
    "            title=r'$\\dot\\phi2(t)$', \n",
    "            ax=ax1_b)    \n",
    "\n",
    "# third plot: state space plot from t=30 to t=50   \n",
    "ax1_c = fig.add_subplot(2,3,3)                  \n",
    "\n",
    "start, stop = start_stop_indices(t_pts, t_start, t_end)    \n",
    "plot_y_vs_x(phi2[start : stop], phi2_dot[start : stop], \n",
    "            axis_labels=state_space_labels_2, \n",
    "            color='blue',\n",
    "            label=None, \n",
    "            title='State space 2', \n",
    "            ax=ax1_c)    "
   ]
  },
  {
   "cell_type": "code",
   "execution_count": null,
   "metadata": {},
   "outputs": [],
   "source": []
  },
  {
   "cell_type": "code",
   "execution_count": null,
   "metadata": {},
   "outputs": [],
   "source": []
  },
  {
   "cell_type": "code",
   "execution_count": null,
   "metadata": {},
   "outputs": [],
   "source": []
  },
  {
   "cell_type": "code",
   "execution_count": null,
   "metadata": {},
   "outputs": [],
   "source": []
  },
  {
   "cell_type": "markdown",
   "metadata": {},
   "source": [
    "Now trying the power spectrum, plotting only positive frequencies and cutting off the lower peaks:"
   ]
  },
  {
   "cell_type": "code",
   "execution_count": null,
   "metadata": {},
   "outputs": [],
   "source": [
    "start, stop = start_stop_indices(t_pts, t_start, t_end)    \n",
    "signal = phi[start:stop]\n",
    "power_spectrum = np.abs(np.fft.fft(signal))**2\n",
    "freqs = np.fft.fftfreq(signal.size, delta_t)\n",
    "idx = np.argsort(freqs)\n",
    "\n",
    "fig_ps = plt.figure(figsize=(5,5))\n",
    "ax_ps = fig_ps.add_subplot(1,1,1)\n",
    "ax_ps.semilogy(freqs[idx], power_spectrum[idx], color='blue')\n",
    "ax_ps.set_xlim(0, 1.)\n",
    "ax_ps.set_ylim(1.e5, 1.e11)\n",
    "ax_ps.set_xlabel('frequency')\n",
    "ax_ps.set_title('Power Spectrum')\n",
    "\n",
    "fig_ps.tight_layout()"
   ]
  },
  {
   "cell_type": "code",
   "execution_count": null,
   "metadata": {},
   "outputs": [],
   "source": []
  }
 ],
 "metadata": {
  "kernelspec": {
   "display_name": "Python 3 (ipykernel)",
   "language": "python",
   "name": "python3"
  },
  "language_info": {
   "codemirror_mode": {
    "name": "ipython",
    "version": 3
   },
   "file_extension": ".py",
   "mimetype": "text/x-python",
   "name": "python",
   "nbconvert_exporter": "python",
   "pygments_lexer": "ipython3",
   "version": "3.9.7"
  }
 },
 "nbformat": 4,
 "nbformat_minor": 2
}
