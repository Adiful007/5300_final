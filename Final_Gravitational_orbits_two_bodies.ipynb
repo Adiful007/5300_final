{
 "cells": [
  {
   "cell_type": "markdown",
   "metadata": {},
   "source": [
    "## Plotting orbits for 2 bodies using Lagrange's equation\n",
    "\n",
    "Defines a GravitationalOrbit class that is used to generate basic orbit plots from solving Lagrange's equations. I have written this notebook by making changes to the pre-existing/given notebooks from Carmen (both for the code and the markdown cells). I have also used google on to learn how to code a few things such at denoting double derivative in markdown, arguments of  plt.subplot, etc. I have also used/referred code from the hints video for this final HW.\n",
    "\n",
    "* Last revised 17-Mar-2019 by Dick Furnstahl (furnstahl.1@osu.edu)."
   ]
  },
  {
   "cell_type": "markdown",
   "metadata": {},
   "source": [
    "## Euler-Lagrange equation\n",
    "\n",
    "For a simple pendulum, the Lagrangian with generalized coordinate $\\phi$ is\n",
    "\n",
    "$\\begin{align}\n",
    "  \\mathcal{L} = \\frac12 m_1 (\\dot x_1^2 + \\dot y_1^2) + \\frac12 m_2 (\\dot x_2^2 + \\dot y_2^2) + \\frac{G m_1 m_2}{[(x_1^2 + y_1^2 )^2+(x_2^2 + y_2^2)^2]^\\frac12}\n",
    "\\end{align}$\n",
    "\n",
    "The Euler-Lagrange equation is\n",
    "1. for x1\n",
    "\n",
    "$\\begin{align}\n",
    " \\frac{d}{dt}\\frac{\\partial\\mathcal{L}}{\\partial \\dot x_1} = \\frac{\\partial\\mathcal L}{\\partial x_1}\n",
    " \\quad\\Longrightarrow\\quad\n",
    "  \\ddot x_1 = \\frac {-G m_2 (x_1 - x_2)}{[(x_1^2 + y_1^2 )^2+(x_2^2 + y_2^2)^2]^\\frac32}\n",
    "  \\ \n",
    "  \\;.\n",
    "\\end{align}$\n",
    "\n",
    "2. for y1\n",
    "\n",
    "$\\begin{align}\n",
    " \\frac{d}{dt}\\frac{\\partial\\mathcal{L}}{\\partial \\dot y_1} = \\frac{\\partial\\mathcal L}{\\partial y_1}\n",
    " \\quad\\Longrightarrow\\quad\n",
    "  \\ddot y_1 = \\frac {-G m_2 (y_1 - y_2)}{[(x_1^2 + y_1^2 )^2+(x_2^2 + y_2^2)^2]^\\frac32}\n",
    "  \\ \n",
    "  \\;.\n",
    "\\end{align}$\n",
    "\n",
    "3. for x2\n",
    "\n",
    "$\\begin{align}\n",
    " \\frac{d}{dt}\\frac{\\partial\\mathcal{L}}{\\partial \\dot x_2} = \\frac{\\partial\\mathcal L}{\\partial x_2}\n",
    " \\quad\\Longrightarrow\\quad\n",
    "  \\ddot x_2 = \\frac {G m_1 (x_1 - x_2)}{[(x_1^2 + y_1^2 )^2+(x_2^2 + y_2^2)^2]^\\frac32}\n",
    "  \\ \n",
    "  \\;.\n",
    "\\end{align}$\n",
    "\n",
    "3. for x2\n",
    "\n",
    "$\\begin{align}\n",
    " \\frac{d}{dt}\\frac{\\partial\\mathcal{L}}{\\partial \\dot y_2} = \\frac{\\partial\\mathcal L}{\\partial y_2}\n",
    " \\quad\\Longrightarrow\\quad\n",
    "  \\ddot y_2 = \\frac {G m_1 (y_1 - y_2)}{[(x_1^2 + y_1^2 )^2+(x_2^2 + y_2^2)^2]^\\frac32}\n",
    "  \\ \n",
    "  \\;.\n",
    "\\end{align}$\n",
    "\n",
    "\n",
    "where r = $[(x_1^2 + y_1^2 )^2+(x_2^2 + y_2^2)^2]^\\frac12$ is the distance between the two masses\n",
    "\n"
   ]
  },
  {
   "cell_type": "code",
   "execution_count": 1,
   "metadata": {},
   "outputs": [],
   "source": [
    "%matplotlib inline"
   ]
  },
  {
   "cell_type": "code",
   "execution_count": 2,
   "metadata": {},
   "outputs": [],
   "source": [
    "import numpy as np\n",
    "from scipy.integrate import odeint, solve_ivp\n",
    "\n",
    "import matplotlib.pyplot as plt"
   ]
  },
  {
   "cell_type": "code",
   "execution_count": 3,
   "metadata": {},
   "outputs": [],
   "source": [
    "# The dpi (dots-per-inch) setting will affect the resolution and how large\n",
    "#  the plots appear on screen and printed.  So you may want/need to adjust \n",
    "#  the figsize when creating the figure.\n",
    "plt.rcParams['figure.dpi'] = 100.    # this is the default for notebook\n",
    "\n",
    "# Change the common font size (smaller when higher dpi)\n",
    "font_size = 12\n",
    "plt.rcParams.update({'font.size': font_size})"
   ]
  },
  {
   "cell_type": "markdown",
   "metadata": {},
   "source": [
    "## Pendulum class and utility functions"
   ]
  },
  {
   "cell_type": "code",
   "execution_count": 4,
   "metadata": {},
   "outputs": [],
   "source": [
    "class GravitationalOrbit():\n",
    "    \"\"\"\n",
    "    Pendulum class implements the parameters and Lagrange's equations for \n",
    "     a simple pendulum (no driving or damping).\n",
    "     \n",
    "    Parameters\n",
    "    ----------\n",
    "    L : float\n",
    "        length of the simple pendulum\n",
    "    g : float\n",
    "        gravitational acceleration at the earth's surface\n",
    "    omega_0 : float\n",
    "        natural frequency of the pendulum (\\sqrt{g/l} where l is the \n",
    "        pendulum length) \n",
    "    mass : float\n",
    "        mass of pendulum\n",
    "\n",
    "    Methods\n",
    "    -------\n",
    "    dy_dt(t, y)\n",
    "        Returns the right side of the differential equation in vector y, \n",
    "        given time t and the corresponding value of y.\n",
    "    \"\"\"\n",
    "    def __init__(self, m1=1., m2=1., G=1.\n",
    "                ):\n",
    "        self.m1 = m1\n",
    "        self.m2 = m2\n",
    "        #self.omega_0 = np.sqrt(g/L)\n",
    "        self.G = G\n",
    "    \n",
    "    def dz_dt(self, t, z):\n",
    "        \"\"\"\n",
    "        This function returns the right-hand side of the diffeq: \n",
    "        [dphi/dt d^2phi/dt^2]\n",
    "        \n",
    "        Parameters\n",
    "        ----------\n",
    "        t : float\n",
    "            time \n",
    "        z : float\n",
    "            A 8-component vector with z[0] = x1(t) and z[1] = y1(t)\n",
    "                                      z[2] = x2(t) and z[3] = y2(t)\n",
    "                                      z[4] = dx1/dt = x1_dot and z[5] = dy1/dt = y1_dot\n",
    "                                      z[6] = dx2/dt = x2_dot and z[7] = dy2/dt = y2_dot\n",
    "        Returns\n",
    "        -------\n",
    "        \n",
    "        \"\"\"\n",
    "        # defining each component in the z vector\n",
    "        x1, y1, x2, y2, x1_dot, y1_dot, x2_dot, y2_dot = z \n",
    "        \n",
    "        r= np.sqrt(((z[0]-z[2])**2) + ((z[1]-z[3])**2) )\n",
    "        \n",
    "        return [ z[4], z[5], z[6], z[7],\n",
    "                -self.G * self.m2 * (z[0]-z[2])/(r**3),\\\n",
    "                -self.G * self.m2 * (z[1]-z[3])/(r**3),\\\n",
    "                 self.G * self.m1 * (z[0]-z[2])/(r**3),\\\n",
    "                 self.G * self.m1 * (z[1]-z[3])/(r**3) ]\n",
    "    \n",
    "    def solve_ode(self, t_pts, z_0,\n",
    "                  abserr=1.0e-9, relerr=1.0e-9):\n",
    "        \"\"\"\n",
    "        Solve the ODE given initial conditions.\n",
    "        Specify smaller abserr and relerr to get more precision.\n",
    "        \"\"\"\n",
    "        #z_0 = [x1_0, y1_0, x2_0, y2_0, x1_dot_0, y1_dot_0, x2_dot_0, y2_dot_0] \n",
    "        solution = solve_ivp(self.dz_dt, (t_pts[0], t_pts[-1]), \n",
    "                             z_0, t_eval=t_pts, \n",
    "                             atol=abserr, rtol=relerr)\n",
    "        x1, y1, x2, y2, x1_dot, y1_dot, x2_dot, y2_dot = solution.y\n",
    "\n",
    "        return x1, y1, x2, y2, x1_dot, y1_dot, x2_dot, y2_dot"
   ]
  },
  {
   "cell_type": "code",
   "execution_count": 5,
   "metadata": {},
   "outputs": [],
   "source": [
    "def plot_y_vs_x(x, y, axis_labels=None, label=None, title=None, \n",
    "                color=None, linestyle=None, semilogy=False, loglog=False,\n",
    "                ax=None):\n",
    "    \"\"\"\n",
    "    Generic plotting function: return a figure axis with a plot of y vs. x,\n",
    "    with line color and style, title, axis labels, and line label\n",
    "    \"\"\"\n",
    "    if ax is None:        # if the axis object doesn't exist, make one\n",
    "        ax = plt.gca()\n",
    "\n",
    "    if (semilogy):\n",
    "        line, = ax.semilogy(x, y, label=label, \n",
    "                            color=color, linestyle=linestyle)\n",
    "    elif (loglog):\n",
    "        line, = ax.loglog(x, y, label=label, \n",
    "                          color=color, linestyle=linestyle)\n",
    "    else:\n",
    "        line, = ax.plot(x, y, label=label, \n",
    "                    color=color, linestyle=linestyle)\n",
    "\n",
    "    if label is not None:    # if a label if passed, show the legend\n",
    "        ax.legend()\n",
    "    if title is not None:    # set a title if one if passed\n",
    "        ax.set_title(title)\n",
    "    if axis_labels is not None:  # set x-axis and y-axis labels if passed  \n",
    "        ax.set_xlabel(axis_labels[0])\n",
    "        ax.set_ylabel(axis_labels[1])\n",
    "\n",
    "    return ax, line"
   ]
  },
  {
   "cell_type": "code",
   "execution_count": 6,
   "metadata": {},
   "outputs": [],
   "source": [
    "def start_stop_indices(t_pts, plot_start, plot_stop):\n",
    "    start_index = (np.fabs(t_pts-plot_start)).argmin()  # index in t_pts array \n",
    "    stop_index = (np.fabs(t_pts-plot_stop)).argmin()  # index in t_pts array \n",
    "    return start_index, stop_index"
   ]
  },
  {
   "cell_type": "code",
   "execution_count": null,
   "metadata": {},
   "outputs": [],
   "source": []
  },
  {
   "cell_type": "markdown",
   "metadata": {},
   "source": [
    "## Make plots of the gravitational orbits of the two masses"
   ]
  },
  {
   "cell_type": "code",
   "execution_count": 7,
   "metadata": {
    "scrolled": false
   },
   "outputs": [],
   "source": [
    "# Labels for individual plot axes\n",
    "orbit_labels = (r'$x$', r'$y$')\n",
    "#phi_dot_vs_time_labels = (r'$t$', r'$d\\phi/dt(t)$')\n",
    "#state_space_labels = (r'$\\phi$', r'$d\\phi/dt$')\n",
    "\n",
    "# Common plotting time (generate the full time then use slices)\n",
    "t_start = 0.\n",
    "t_end = 50.\n",
    "delta_t = 0.001\n",
    "\n",
    "t_pts = np.arange(t_start, t_end+delta_t, delta_t)  \n",
    "\n",
    "m1 = 1.\n",
    "m2 = 5.\n",
    "G = 1.\n",
    "\n",
    "\n",
    "# Instantiate a pendulum \n",
    "o1 = GravitationalOrbit(m1=m1, m2=m2, G=G)\n"
   ]
  },
  {
   "cell_type": "code",
   "execution_count": 8,
   "metadata": {},
   "outputs": [
    {
     "data": {
      "image/png": "[encoded data removed]",
      "text/plain": [
       "<Figure size 500x500 with 1 Axes>"
      ]
     },
     "metadata": {
      "needs_background": "light"
     },
     "output_type": "display_data"
    }
   ],
   "source": [
    "# both plots: same initial conditions\n",
    "x1_0, y1_0 = 1 , 1\n",
    "x2_0, y2_0 = -(m1/m2)* x1_0, -(m1/m2)* y1_0\n",
    "x1_dot_0, y1_dot_0 = -1 , 1\n",
    "x2_dot_0, y2_dot_0 = -(m1/m2)* x1_dot_0, -(m1/m2)* y1_dot_0\n",
    "\n",
    "z_0 = [x1_0, y1_0, x2_0, y2_0, x1_dot_0, y1_dot_0, x2_dot_0, y2_dot_0] \n",
    "\n",
    "x1, y1, x2, y2, x1_dot, y1_dot, x2_dot, y2_dot= o1.solve_ode(t_pts,z_0)\n",
    "\n",
    "\n",
    "# start the plot!\n",
    "fig = plt.figure(figsize=(5,5))\n",
    "# overall_title = 'Simple pendulum from Lagrangian:  ' + \\\n",
    "#                 rf' $\\omega_0 = {p1.omega_0:.2f},$' + \\\n",
    "#                 rf'  $\\phi_0 = {phi_0:.2f},$' + \\\n",
    "#                 rf' $\\dot\\phi_0 = {phi_dot_0:.2f}$' + \\\n",
    "#                 '\\n'     # \\n means a new line (adds some space here)\n",
    "#fig.suptitle(overall_title, va='baseline')\n",
    "    \n",
    "# first plot: phi plot \n",
    "ax_a = fig.add_subplot(1,1,1)                  \n",
    "\n",
    "start, stop = start_stop_indices(t_pts, t_start, t_end)    \n",
    "plot_y_vs_x(x1[start : stop], y1[start : stop], \n",
    "            axis_labels=orbit_labels, \n",
    "            color='blue',\n",
    "            label= 'Mass1', \n",
    "            #title=r'$\\(t)$', \n",
    "            ax=ax_a)    \n",
    "\n",
    "start, stop = start_stop_indices(t_pts, t_start, t_end)    \n",
    "plot_y_vs_x(x2[start : stop], y2[start : stop], \n",
    "            axis_labels= orbit_labels, \n",
    "            color='red',\n",
    "            label= 'Mass2', \n",
    "            #title=r'$\\dot\\phi(t)$', \n",
    "            ax=ax_a)    \n",
    "\n",
    "                              \n",
    "\n",
    "fig.tight_layout()\n",
    "fig.savefig('Gravitational_orbit_final.png', bbox_inches='tight')  "
   ]
  },
  {
   "cell_type": "markdown",
   "metadata": {},
   "source": [
    "As we can see above, the heavier mass $m_2$ is orbiting closer to the centre of mass (0,0) and the lighter mass $m_1$ is orbiting away from the centre of mass."
   ]
  },
  {
   "cell_type": "code",
   "execution_count": 9,
   "metadata": {},
   "outputs": [],
   "source": [
    "# Labels for individual plot axes\n",
    "orbit_labels = (r'$x$', r'$y$')\n",
    "#phi_dot_vs_time_labels = (r'$t$', r'$d\\phi/dt(t)$')\n",
    "#state_space_labels = (r'$\\phi$', r'$d\\phi/dt$')\n",
    "\n",
    "# Common plotting time (generate the full time then use slices)\n",
    "t_start = 0.\n",
    "t_end = 50.\n",
    "delta_t = 0.001\n",
    "\n",
    "t_pts = np.arange(t_start, t_end+delta_t, delta_t)  \n",
    "\n",
    "m1 = 50.\n",
    "m2 = 1.\n",
    "G = 100.\n",
    "\n",
    "\n",
    "# Instantiate a pendulum \n",
    "o1 = GravitationalOrbit(m1=m1, m2=m2, G=G)\n"
   ]
  },
  {
   "cell_type": "code",
   "execution_count": 10,
   "metadata": {},
   "outputs": [
    {
     "data": {
      "image/png": "[encoded data removed]",
      "text/plain": [
       "<Figure size 500x500 with 1 Axes>"
      ]
     },
     "metadata": {
      "needs_background": "light"
     },
     "output_type": "display_data"
    }
   ],
   "source": [
    "# both plots: same initial conditions\n",
    "x1_0, y1_0 = 0.1 , 0.1\n",
    "x2_0, y2_0 = -(m1/m2)* x1_0, -(m1/m2)* y1_0\n",
    "x1_dot_0, y1_dot_0 = -0.1 , 0.1\n",
    "x2_dot_0, y2_dot_0 = -(m1/m2)* x1_dot_0, -(m1/m2)* y1_dot_0\n",
    "\n",
    "z_0 = [x1_0, y1_0, x2_0, y2_0, x1_dot_0, y1_dot_0, x2_dot_0, y2_dot_0] \n",
    "\n",
    "x1, y1, x2, y2, x1_dot, y1_dot, x2_dot, y2_dot= o1.solve_ode(t_pts,z_0)\n",
    "\n",
    "\n",
    "# start the plot!\n",
    "fig = plt.figure(figsize=(5,5))\n",
    "# overall_title = 'Simple pendulum from Lagrangian:  ' + \\\n",
    "#                 rf' $\\omega_0 = {p1.omega_0:.2f},$' + \\\n",
    "#                 rf'  $\\phi_0 = {phi_0:.2f},$' + \\\n",
    "#                 rf' $\\dot\\phi_0 = {phi_dot_0:.2f}$' + \\\n",
    "#                 '\\n'     # \\n means a new line (adds some space here)\n",
    "#fig.suptitle(overall_title, va='baseline')\n",
    "    \n",
    "# first plot: phi plot \n",
    "ax_a = fig.add_subplot(1,1,1)                  \n",
    "\n",
    "start, stop = start_stop_indices(t_pts, t_start, t_end)    \n",
    "plot_y_vs_x(x1[start : stop], y1[start : stop], \n",
    "            axis_labels=orbit_labels, \n",
    "            color='blue',\n",
    "            label= 'Mass1', \n",
    "            #title=r'$\\(t)$', \n",
    "            ax=ax_a)    \n",
    "\n",
    "start, stop = start_stop_indices(t_pts, t_start, t_end)    \n",
    "plot_y_vs_x(x2[start : stop], y2[start : stop], \n",
    "            axis_labels= orbit_labels, \n",
    "            color='red',\n",
    "            label= 'Mass2', \n",
    "            #title=r'$\\dot\\phi(t)$', \n",
    "            ax=ax_a)    \n",
    "\n",
    "                              \n",
    "\n",
    "fig.tight_layout()\n",
    "fig.savefig('Gravitational_orbit_final_heavy.png', bbox_inches='tight')  "
   ]
  },
  {
   "cell_type": "markdown",
   "metadata": {},
   "source": [
    "As we can see above, the heavier mass $m_1$ (which is 50 times heavier than $m_2$) is orbiting so close to the centre of mass(0,0) that it's orbit is almost a point, making $m_1$ almost stationary whereas $m_2$ (which is 50 times lighter) has moved much further away such that its distance on average from the centre of mass is quite high compared to $m_1$ ."
   ]
  },
  {
   "cell_type": "markdown",
   "metadata": {},
   "source": [
    "The assignment is based on code taken from the final hw hints video, theory, concepts, and formulae/ equations from the textbook, python notebooks from Carmen, ideas from classmates (Manali, Aiden), information obtained from google searches on python code, and discussion with class mates on discord. The following links were used- \n",
    "\n",
    "1. https://tex.stackexchange.com/questions/152951/how-to-write-two-dot-above-a-letter\n",
    "2. https://www.google.com/search?q=how+to+write+x+double+dot+in+markdown&client=safari&rls=en&sxsrf=APwXEdfP4eYtPAV7qQE2m3LQVgFNYRSOeQ%3A1682560284113&ei=HNVJZOG7BobIptQP5uCJ0AY&ved=0ahUKEwjhubDA-cj-AhUGpIkEHWZwAmoQ4dUDCA8&uact=5&oq=how+to+write+x+double+dot+in+markdown&gs_lcp=Cgxnd3Mtd2l6LXNlcnAQAzILCCEQoAEQwwQQiwM6CggAEEcQ1gQQsAM6BwgjELACECc6CgghEKABEMMEEAo6DQghEKABEMMEEAoQiwM6BwghEAoQiwNKBAhBGABQ5A9YyyJg5SVoA3AAeACAAXaIAasGkgEDMy41mAEAoAEByAEIuAEDwAEB&sclient=gws-wiz-serp\n",
    "3. https://matplotlib.org/stable/api/_as_gen/matplotlib.pyplot.subplot.html\n"
   ]
  },
  {
   "cell_type": "code",
   "execution_count": null,
   "metadata": {},
   "outputs": [],
   "source": []
  }
 ],
 "metadata": {
  "kernelspec": {
   "display_name": "Python 3 (ipykernel)",
   "language": "python",
   "name": "python3"
  },
  "language_info": {
   "codemirror_mode": {
    "name": "ipython",
    "version": 3
   },
   "file_extension": ".py",
   "mimetype": "text/x-python",
   "name": "python",
   "nbconvert_exporter": "python",
   "pygments_lexer": "ipython3",
   "version": "3.9.7"
  }
 },
 "nbformat": 4,
 "nbformat_minor": 2
}
